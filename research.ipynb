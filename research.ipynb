{
 "cells": [
  {
   "cell_type": "markdown",
   "metadata": {},
   "source": [
    "# Overview"
   ]
  },
  {
   "cell_type": "markdown",
   "metadata": {},
   "source": [
    "### Research Questions\n",
    "1. Which lifestyle factors (including phsyical activity, diet, smoking status, and alcohol consumption) contribute the most to Type 1, 2, and 3c Diabetes? (Sarah)\n",
    "2.\n",
    "3.\n",
    "4.\n",
    "5."
   ]
  },
  {
   "cell_type": "code",
   "execution_count": 19,
   "metadata": {},
   "outputs": [],
   "source": [
    "import pandas as pd\n",
    "import numpy as np"
   ]
  },
  {
   "cell_type": "code",
   "execution_count": 20,
   "metadata": {},
   "outputs": [
    {
     "data": {
      "text/html": [
       "<div>\n",
       "<style scoped>\n",
       "    .dataframe tbody tr th:only-of-type {\n",
       "        vertical-align: middle;\n",
       "    }\n",
       "\n",
       "    .dataframe tbody tr th {\n",
       "        vertical-align: top;\n",
       "    }\n",
       "\n",
       "    .dataframe thead th {\n",
       "        text-align: right;\n",
       "    }\n",
       "</style>\n",
       "<table border=\"1\" class=\"dataframe\">\n",
       "  <thead>\n",
       "    <tr style=\"text-align: right;\">\n",
       "      <th></th>\n",
       "      <th>Target</th>\n",
       "      <th>Genetic Markers</th>\n",
       "      <th>Autoantibodies</th>\n",
       "      <th>Family History</th>\n",
       "      <th>Environmental Factors</th>\n",
       "      <th>Insulin Levels</th>\n",
       "      <th>Age</th>\n",
       "      <th>BMI</th>\n",
       "      <th>Physical Activity</th>\n",
       "      <th>Dietary Habits</th>\n",
       "      <th>...</th>\n",
       "      <th>Pulmonary Function</th>\n",
       "      <th>Cystic Fibrosis Diagnosis</th>\n",
       "      <th>Steroid Use History</th>\n",
       "      <th>Genetic Testing</th>\n",
       "      <th>Neurological Assessments</th>\n",
       "      <th>Liver Function Tests</th>\n",
       "      <th>Digestive Enzyme Levels</th>\n",
       "      <th>Urine Test</th>\n",
       "      <th>Birth Weight</th>\n",
       "      <th>Early Onset Symptoms</th>\n",
       "    </tr>\n",
       "  </thead>\n",
       "  <tbody>\n",
       "    <tr>\n",
       "      <th>0</th>\n",
       "      <td>Steroid-Induced Diabetes</td>\n",
       "      <td>Positive</td>\n",
       "      <td>Negative</td>\n",
       "      <td>No</td>\n",
       "      <td>Present</td>\n",
       "      <td>40</td>\n",
       "      <td>44</td>\n",
       "      <td>38</td>\n",
       "      <td>High</td>\n",
       "      <td>Healthy</td>\n",
       "      <td>...</td>\n",
       "      <td>76</td>\n",
       "      <td>No</td>\n",
       "      <td>No</td>\n",
       "      <td>Positive</td>\n",
       "      <td>3</td>\n",
       "      <td>Normal</td>\n",
       "      <td>56</td>\n",
       "      <td>Ketones Present</td>\n",
       "      <td>2629</td>\n",
       "      <td>No</td>\n",
       "    </tr>\n",
       "    <tr>\n",
       "      <th>1</th>\n",
       "      <td>Neonatal Diabetes Mellitus (NDM)</td>\n",
       "      <td>Positive</td>\n",
       "      <td>Negative</td>\n",
       "      <td>No</td>\n",
       "      <td>Present</td>\n",
       "      <td>13</td>\n",
       "      <td>1</td>\n",
       "      <td>17</td>\n",
       "      <td>High</td>\n",
       "      <td>Healthy</td>\n",
       "      <td>...</td>\n",
       "      <td>60</td>\n",
       "      <td>Yes</td>\n",
       "      <td>No</td>\n",
       "      <td>Negative</td>\n",
       "      <td>1</td>\n",
       "      <td>Normal</td>\n",
       "      <td>28</td>\n",
       "      <td>Glucose Present</td>\n",
       "      <td>1881</td>\n",
       "      <td>Yes</td>\n",
       "    </tr>\n",
       "    <tr>\n",
       "      <th>2</th>\n",
       "      <td>Prediabetic</td>\n",
       "      <td>Positive</td>\n",
       "      <td>Positive</td>\n",
       "      <td>Yes</td>\n",
       "      <td>Present</td>\n",
       "      <td>27</td>\n",
       "      <td>36</td>\n",
       "      <td>24</td>\n",
       "      <td>High</td>\n",
       "      <td>Unhealthy</td>\n",
       "      <td>...</td>\n",
       "      <td>80</td>\n",
       "      <td>Yes</td>\n",
       "      <td>No</td>\n",
       "      <td>Negative</td>\n",
       "      <td>1</td>\n",
       "      <td>Abnormal</td>\n",
       "      <td>55</td>\n",
       "      <td>Ketones Present</td>\n",
       "      <td>3622</td>\n",
       "      <td>Yes</td>\n",
       "    </tr>\n",
       "    <tr>\n",
       "      <th>3</th>\n",
       "      <td>Type 1 Diabetes</td>\n",
       "      <td>Negative</td>\n",
       "      <td>Positive</td>\n",
       "      <td>No</td>\n",
       "      <td>Present</td>\n",
       "      <td>8</td>\n",
       "      <td>7</td>\n",
       "      <td>16</td>\n",
       "      <td>Low</td>\n",
       "      <td>Unhealthy</td>\n",
       "      <td>...</td>\n",
       "      <td>89</td>\n",
       "      <td>Yes</td>\n",
       "      <td>No</td>\n",
       "      <td>Positive</td>\n",
       "      <td>2</td>\n",
       "      <td>Abnormal</td>\n",
       "      <td>60</td>\n",
       "      <td>Ketones Present</td>\n",
       "      <td>3542</td>\n",
       "      <td>No</td>\n",
       "    </tr>\n",
       "    <tr>\n",
       "      <th>4</th>\n",
       "      <td>Wolfram Syndrome</td>\n",
       "      <td>Negative</td>\n",
       "      <td>Negative</td>\n",
       "      <td>Yes</td>\n",
       "      <td>Present</td>\n",
       "      <td>17</td>\n",
       "      <td>10</td>\n",
       "      <td>17</td>\n",
       "      <td>High</td>\n",
       "      <td>Healthy</td>\n",
       "      <td>...</td>\n",
       "      <td>41</td>\n",
       "      <td>No</td>\n",
       "      <td>No</td>\n",
       "      <td>Positive</td>\n",
       "      <td>1</td>\n",
       "      <td>Normal</td>\n",
       "      <td>24</td>\n",
       "      <td>Protein Present</td>\n",
       "      <td>1770</td>\n",
       "      <td>No</td>\n",
       "    </tr>\n",
       "    <tr>\n",
       "      <th>...</th>\n",
       "      <td>...</td>\n",
       "      <td>...</td>\n",
       "      <td>...</td>\n",
       "      <td>...</td>\n",
       "      <td>...</td>\n",
       "      <td>...</td>\n",
       "      <td>...</td>\n",
       "      <td>...</td>\n",
       "      <td>...</td>\n",
       "      <td>...</td>\n",
       "      <td>...</td>\n",
       "      <td>...</td>\n",
       "      <td>...</td>\n",
       "      <td>...</td>\n",
       "      <td>...</td>\n",
       "      <td>...</td>\n",
       "      <td>...</td>\n",
       "      <td>...</td>\n",
       "      <td>...</td>\n",
       "      <td>...</td>\n",
       "      <td>...</td>\n",
       "    </tr>\n",
       "    <tr>\n",
       "      <th>69995</th>\n",
       "      <td>Steroid-Induced Diabetes</td>\n",
       "      <td>Negative</td>\n",
       "      <td>Negative</td>\n",
       "      <td>Yes</td>\n",
       "      <td>Present</td>\n",
       "      <td>24</td>\n",
       "      <td>38</td>\n",
       "      <td>35</td>\n",
       "      <td>High</td>\n",
       "      <td>Unhealthy</td>\n",
       "      <td>...</td>\n",
       "      <td>71</td>\n",
       "      <td>Yes</td>\n",
       "      <td>Yes</td>\n",
       "      <td>Positive</td>\n",
       "      <td>2</td>\n",
       "      <td>Abnormal</td>\n",
       "      <td>34</td>\n",
       "      <td>Normal</td>\n",
       "      <td>2575</td>\n",
       "      <td>No</td>\n",
       "    </tr>\n",
       "    <tr>\n",
       "      <th>69996</th>\n",
       "      <td>LADA</td>\n",
       "      <td>Positive</td>\n",
       "      <td>Positive</td>\n",
       "      <td>No</td>\n",
       "      <td>Absent</td>\n",
       "      <td>21</td>\n",
       "      <td>51</td>\n",
       "      <td>31</td>\n",
       "      <td>Low</td>\n",
       "      <td>Unhealthy</td>\n",
       "      <td>...</td>\n",
       "      <td>82</td>\n",
       "      <td>Yes</td>\n",
       "      <td>Yes</td>\n",
       "      <td>Negative</td>\n",
       "      <td>1</td>\n",
       "      <td>Abnormal</td>\n",
       "      <td>58</td>\n",
       "      <td>Ketones Present</td>\n",
       "      <td>3002</td>\n",
       "      <td>No</td>\n",
       "    </tr>\n",
       "    <tr>\n",
       "      <th>69997</th>\n",
       "      <td>Type 1 Diabetes</td>\n",
       "      <td>Positive</td>\n",
       "      <td>Negative</td>\n",
       "      <td>No</td>\n",
       "      <td>Absent</td>\n",
       "      <td>18</td>\n",
       "      <td>11</td>\n",
       "      <td>15</td>\n",
       "      <td>Low</td>\n",
       "      <td>Unhealthy</td>\n",
       "      <td>...</td>\n",
       "      <td>77</td>\n",
       "      <td>Yes</td>\n",
       "      <td>Yes</td>\n",
       "      <td>Positive</td>\n",
       "      <td>2</td>\n",
       "      <td>Normal</td>\n",
       "      <td>53</td>\n",
       "      <td>Protein Present</td>\n",
       "      <td>3593</td>\n",
       "      <td>No</td>\n",
       "    </tr>\n",
       "    <tr>\n",
       "      <th>69998</th>\n",
       "      <td>Cystic Fibrosis-Related Diabetes (CFRD)</td>\n",
       "      <td>Positive</td>\n",
       "      <td>Negative</td>\n",
       "      <td>No</td>\n",
       "      <td>Absent</td>\n",
       "      <td>32</td>\n",
       "      <td>30</td>\n",
       "      <td>24</td>\n",
       "      <td>High</td>\n",
       "      <td>Healthy</td>\n",
       "      <td>...</td>\n",
       "      <td>70</td>\n",
       "      <td>No</td>\n",
       "      <td>No</td>\n",
       "      <td>Positive</td>\n",
       "      <td>1</td>\n",
       "      <td>Abnormal</td>\n",
       "      <td>35</td>\n",
       "      <td>Ketones Present</td>\n",
       "      <td>2592</td>\n",
       "      <td>Yes</td>\n",
       "    </tr>\n",
       "    <tr>\n",
       "      <th>69999</th>\n",
       "      <td>LADA</td>\n",
       "      <td>Positive</td>\n",
       "      <td>Positive</td>\n",
       "      <td>Yes</td>\n",
       "      <td>Absent</td>\n",
       "      <td>27</td>\n",
       "      <td>41</td>\n",
       "      <td>28</td>\n",
       "      <td>Moderate</td>\n",
       "      <td>Healthy</td>\n",
       "      <td>...</td>\n",
       "      <td>84</td>\n",
       "      <td>No</td>\n",
       "      <td>Yes</td>\n",
       "      <td>Negative</td>\n",
       "      <td>2</td>\n",
       "      <td>Abnormal</td>\n",
       "      <td>64</td>\n",
       "      <td>Ketones Present</td>\n",
       "      <td>3593</td>\n",
       "      <td>Yes</td>\n",
       "    </tr>\n",
       "  </tbody>\n",
       "</table>\n",
       "<p>70000 rows × 34 columns</p>\n",
       "</div>"
      ],
      "text/plain": [
       "                                        Target Genetic Markers Autoantibodies  \\\n",
       "0                     Steroid-Induced Diabetes        Positive       Negative   \n",
       "1             Neonatal Diabetes Mellitus (NDM)        Positive       Negative   \n",
       "2                                  Prediabetic        Positive       Positive   \n",
       "3                              Type 1 Diabetes        Negative       Positive   \n",
       "4                             Wolfram Syndrome        Negative       Negative   \n",
       "...                                        ...             ...            ...   \n",
       "69995                 Steroid-Induced Diabetes        Negative       Negative   \n",
       "69996                                     LADA        Positive       Positive   \n",
       "69997                          Type 1 Diabetes        Positive       Negative   \n",
       "69998  Cystic Fibrosis-Related Diabetes (CFRD)        Positive       Negative   \n",
       "69999                                     LADA        Positive       Positive   \n",
       "\n",
       "      Family History Environmental Factors  Insulin Levels  Age  BMI  \\\n",
       "0                 No               Present              40   44   38   \n",
       "1                 No               Present              13    1   17   \n",
       "2                Yes               Present              27   36   24   \n",
       "3                 No               Present               8    7   16   \n",
       "4                Yes               Present              17   10   17   \n",
       "...              ...                   ...             ...  ...  ...   \n",
       "69995            Yes               Present              24   38   35   \n",
       "69996             No                Absent              21   51   31   \n",
       "69997             No                Absent              18   11   15   \n",
       "69998             No                Absent              32   30   24   \n",
       "69999            Yes                Absent              27   41   28   \n",
       "\n",
       "      Physical Activity Dietary Habits  ...  Pulmonary Function  \\\n",
       "0                  High        Healthy  ...                  76   \n",
       "1                  High        Healthy  ...                  60   \n",
       "2                  High      Unhealthy  ...                  80   \n",
       "3                   Low      Unhealthy  ...                  89   \n",
       "4                  High        Healthy  ...                  41   \n",
       "...                 ...            ...  ...                 ...   \n",
       "69995              High      Unhealthy  ...                  71   \n",
       "69996               Low      Unhealthy  ...                  82   \n",
       "69997               Low      Unhealthy  ...                  77   \n",
       "69998              High        Healthy  ...                  70   \n",
       "69999          Moderate        Healthy  ...                  84   \n",
       "\n",
       "       Cystic Fibrosis Diagnosis  Steroid Use History  Genetic Testing  \\\n",
       "0                             No                   No         Positive   \n",
       "1                            Yes                   No         Negative   \n",
       "2                            Yes                   No         Negative   \n",
       "3                            Yes                   No         Positive   \n",
       "4                             No                   No         Positive   \n",
       "...                          ...                  ...              ...   \n",
       "69995                        Yes                  Yes         Positive   \n",
       "69996                        Yes                  Yes         Negative   \n",
       "69997                        Yes                  Yes         Positive   \n",
       "69998                         No                   No         Positive   \n",
       "69999                         No                  Yes         Negative   \n",
       "\n",
       "      Neurological Assessments Liver Function Tests Digestive Enzyme Levels  \\\n",
       "0                            3               Normal                      56   \n",
       "1                            1               Normal                      28   \n",
       "2                            1             Abnormal                      55   \n",
       "3                            2             Abnormal                      60   \n",
       "4                            1               Normal                      24   \n",
       "...                        ...                  ...                     ...   \n",
       "69995                        2             Abnormal                      34   \n",
       "69996                        1             Abnormal                      58   \n",
       "69997                        2               Normal                      53   \n",
       "69998                        1             Abnormal                      35   \n",
       "69999                        2             Abnormal                      64   \n",
       "\n",
       "            Urine Test Birth Weight Early Onset Symptoms  \n",
       "0      Ketones Present         2629                   No  \n",
       "1      Glucose Present         1881                  Yes  \n",
       "2      Ketones Present         3622                  Yes  \n",
       "3      Ketones Present         3542                   No  \n",
       "4      Protein Present         1770                   No  \n",
       "...                ...          ...                  ...  \n",
       "69995           Normal         2575                   No  \n",
       "69996  Ketones Present         3002                   No  \n",
       "69997  Protein Present         3593                   No  \n",
       "69998  Ketones Present         2592                  Yes  \n",
       "69999  Ketones Present         3593                  Yes  \n",
       "\n",
       "[70000 rows x 34 columns]"
      ]
     },
     "execution_count": 20,
     "metadata": {},
     "output_type": "execute_result"
    }
   ],
   "source": [
    "df = pd.read_csv(\"diabetes_dataset00.csv\")\n",
    "df"
   ]
  },
  {
   "cell_type": "code",
   "execution_count": 139,
   "metadata": {},
   "outputs": [],
   "source": [
    "# dataframes for all the different types of diabetes\n",
    "\n",
    "type1 = df[df.Target == \"Type 1 Diabetes\"]\n",
    "type2 = df[df.Target == \"Type 2 Diabetes\"]\n",
    "type3c = df[df.Target == \"Type 3c Diabetes (Pancreatogenic Diabetes)\"]\n",
    "\n",
    "prediabetic = df[df.Target == \"Prediabetic\"]\n",
    "lada = df[df.Target == \"LADA\"]\n",
    "wolfram = df[df.Target == \"Wolfram Syndrome\"]\n",
    "\n",
    "steroid = df[df.Target == \"Steroid-Induced Diabetes\"]\n",
    "cfrd = df[df.Target == \"Cystic Fibrosis-Related Diabetes (CFRD)\"]\n",
    "ndm = df[df.Target == \"Neonatal Diabetes Mellitus (NDM)\"]\n",
    "\n",
    "gestational = df[df.Target == \"Gestational Diabetes\"]\n",
    "mody = df[df.Target == \"MODY\"]\n",
    "wolcott = df[df.Target == \"Wolcott-Rallison Syndrome\"]\n",
    "secondary = df[df.Target == \"Secondary Diabetes\"]"
   ]
  },
  {
   "cell_type": "markdown",
   "metadata": {},
   "source": [
    "# Research Question 1"
   ]
  },
  {
   "cell_type": "markdown",
   "metadata": {},
   "source": [
    "### Coding Lifestyle Factors"
   ]
  },
  {
   "cell_type": "code",
   "execution_count": 80,
   "metadata": {},
   "outputs": [
    {
     "data": {
      "text/html": [
       "<div>\n",
       "<style scoped>\n",
       "    .dataframe tbody tr th:only-of-type {\n",
       "        vertical-align: middle;\n",
       "    }\n",
       "\n",
       "    .dataframe tbody tr th {\n",
       "        vertical-align: top;\n",
       "    }\n",
       "\n",
       "    .dataframe thead th {\n",
       "        text-align: right;\n",
       "    }\n",
       "</style>\n",
       "<table border=\"1\" class=\"dataframe\">\n",
       "  <thead>\n",
       "    <tr style=\"text-align: right;\">\n",
       "      <th></th>\n",
       "      <th>Target</th>\n",
       "      <th>Genetic Markers</th>\n",
       "      <th>Autoantibodies</th>\n",
       "      <th>Family History</th>\n",
       "      <th>Environmental Factors</th>\n",
       "      <th>Insulin Levels</th>\n",
       "      <th>Age</th>\n",
       "      <th>BMI</th>\n",
       "      <th>Physical Activity</th>\n",
       "      <th>Dietary Habits</th>\n",
       "      <th>...</th>\n",
       "      <th>Pulmonary Function</th>\n",
       "      <th>Cystic Fibrosis Diagnosis</th>\n",
       "      <th>Steroid Use History</th>\n",
       "      <th>Genetic Testing</th>\n",
       "      <th>Neurological Assessments</th>\n",
       "      <th>Liver Function Tests</th>\n",
       "      <th>Digestive Enzyme Levels</th>\n",
       "      <th>Urine Test</th>\n",
       "      <th>Birth Weight</th>\n",
       "      <th>Early Onset Symptoms</th>\n",
       "    </tr>\n",
       "  </thead>\n",
       "  <tbody>\n",
       "    <tr>\n",
       "      <th>0</th>\n",
       "      <td>Steroid-Induced Diabetes</td>\n",
       "      <td>Positive</td>\n",
       "      <td>Negative</td>\n",
       "      <td>No</td>\n",
       "      <td>Present</td>\n",
       "      <td>40</td>\n",
       "      <td>44</td>\n",
       "      <td>38</td>\n",
       "      <td>1</td>\n",
       "      <td>1</td>\n",
       "      <td>...</td>\n",
       "      <td>76</td>\n",
       "      <td>No</td>\n",
       "      <td>No</td>\n",
       "      <td>Positive</td>\n",
       "      <td>3</td>\n",
       "      <td>Normal</td>\n",
       "      <td>56</td>\n",
       "      <td>Ketones Present</td>\n",
       "      <td>2629</td>\n",
       "      <td>No</td>\n",
       "    </tr>\n",
       "    <tr>\n",
       "      <th>1</th>\n",
       "      <td>Neonatal Diabetes Mellitus (NDM)</td>\n",
       "      <td>Positive</td>\n",
       "      <td>Negative</td>\n",
       "      <td>No</td>\n",
       "      <td>Present</td>\n",
       "      <td>13</td>\n",
       "      <td>1</td>\n",
       "      <td>17</td>\n",
       "      <td>1</td>\n",
       "      <td>1</td>\n",
       "      <td>...</td>\n",
       "      <td>60</td>\n",
       "      <td>Yes</td>\n",
       "      <td>No</td>\n",
       "      <td>Negative</td>\n",
       "      <td>1</td>\n",
       "      <td>Normal</td>\n",
       "      <td>28</td>\n",
       "      <td>Glucose Present</td>\n",
       "      <td>1881</td>\n",
       "      <td>Yes</td>\n",
       "    </tr>\n",
       "    <tr>\n",
       "      <th>2</th>\n",
       "      <td>Prediabetic</td>\n",
       "      <td>Positive</td>\n",
       "      <td>Positive</td>\n",
       "      <td>Yes</td>\n",
       "      <td>Present</td>\n",
       "      <td>27</td>\n",
       "      <td>36</td>\n",
       "      <td>24</td>\n",
       "      <td>1</td>\n",
       "      <td>0</td>\n",
       "      <td>...</td>\n",
       "      <td>80</td>\n",
       "      <td>Yes</td>\n",
       "      <td>No</td>\n",
       "      <td>Negative</td>\n",
       "      <td>1</td>\n",
       "      <td>Abnormal</td>\n",
       "      <td>55</td>\n",
       "      <td>Ketones Present</td>\n",
       "      <td>3622</td>\n",
       "      <td>Yes</td>\n",
       "    </tr>\n",
       "    <tr>\n",
       "      <th>3</th>\n",
       "      <td>Type 1 Diabetes</td>\n",
       "      <td>Negative</td>\n",
       "      <td>Positive</td>\n",
       "      <td>No</td>\n",
       "      <td>Present</td>\n",
       "      <td>8</td>\n",
       "      <td>7</td>\n",
       "      <td>16</td>\n",
       "      <td>0</td>\n",
       "      <td>0</td>\n",
       "      <td>...</td>\n",
       "      <td>89</td>\n",
       "      <td>Yes</td>\n",
       "      <td>No</td>\n",
       "      <td>Positive</td>\n",
       "      <td>2</td>\n",
       "      <td>Abnormal</td>\n",
       "      <td>60</td>\n",
       "      <td>Ketones Present</td>\n",
       "      <td>3542</td>\n",
       "      <td>No</td>\n",
       "    </tr>\n",
       "    <tr>\n",
       "      <th>4</th>\n",
       "      <td>Wolfram Syndrome</td>\n",
       "      <td>Negative</td>\n",
       "      <td>Negative</td>\n",
       "      <td>Yes</td>\n",
       "      <td>Present</td>\n",
       "      <td>17</td>\n",
       "      <td>10</td>\n",
       "      <td>17</td>\n",
       "      <td>1</td>\n",
       "      <td>1</td>\n",
       "      <td>...</td>\n",
       "      <td>41</td>\n",
       "      <td>No</td>\n",
       "      <td>No</td>\n",
       "      <td>Positive</td>\n",
       "      <td>1</td>\n",
       "      <td>Normal</td>\n",
       "      <td>24</td>\n",
       "      <td>Protein Present</td>\n",
       "      <td>1770</td>\n",
       "      <td>No</td>\n",
       "    </tr>\n",
       "    <tr>\n",
       "      <th>...</th>\n",
       "      <td>...</td>\n",
       "      <td>...</td>\n",
       "      <td>...</td>\n",
       "      <td>...</td>\n",
       "      <td>...</td>\n",
       "      <td>...</td>\n",
       "      <td>...</td>\n",
       "      <td>...</td>\n",
       "      <td>...</td>\n",
       "      <td>...</td>\n",
       "      <td>...</td>\n",
       "      <td>...</td>\n",
       "      <td>...</td>\n",
       "      <td>...</td>\n",
       "      <td>...</td>\n",
       "      <td>...</td>\n",
       "      <td>...</td>\n",
       "      <td>...</td>\n",
       "      <td>...</td>\n",
       "      <td>...</td>\n",
       "      <td>...</td>\n",
       "    </tr>\n",
       "    <tr>\n",
       "      <th>69995</th>\n",
       "      <td>Steroid-Induced Diabetes</td>\n",
       "      <td>Negative</td>\n",
       "      <td>Negative</td>\n",
       "      <td>Yes</td>\n",
       "      <td>Present</td>\n",
       "      <td>24</td>\n",
       "      <td>38</td>\n",
       "      <td>35</td>\n",
       "      <td>1</td>\n",
       "      <td>0</td>\n",
       "      <td>...</td>\n",
       "      <td>71</td>\n",
       "      <td>Yes</td>\n",
       "      <td>Yes</td>\n",
       "      <td>Positive</td>\n",
       "      <td>2</td>\n",
       "      <td>Abnormal</td>\n",
       "      <td>34</td>\n",
       "      <td>Normal</td>\n",
       "      <td>2575</td>\n",
       "      <td>No</td>\n",
       "    </tr>\n",
       "    <tr>\n",
       "      <th>69996</th>\n",
       "      <td>LADA</td>\n",
       "      <td>Positive</td>\n",
       "      <td>Positive</td>\n",
       "      <td>No</td>\n",
       "      <td>Absent</td>\n",
       "      <td>21</td>\n",
       "      <td>51</td>\n",
       "      <td>31</td>\n",
       "      <td>0</td>\n",
       "      <td>0</td>\n",
       "      <td>...</td>\n",
       "      <td>82</td>\n",
       "      <td>Yes</td>\n",
       "      <td>Yes</td>\n",
       "      <td>Negative</td>\n",
       "      <td>1</td>\n",
       "      <td>Abnormal</td>\n",
       "      <td>58</td>\n",
       "      <td>Ketones Present</td>\n",
       "      <td>3002</td>\n",
       "      <td>No</td>\n",
       "    </tr>\n",
       "    <tr>\n",
       "      <th>69997</th>\n",
       "      <td>Type 1 Diabetes</td>\n",
       "      <td>Positive</td>\n",
       "      <td>Negative</td>\n",
       "      <td>No</td>\n",
       "      <td>Absent</td>\n",
       "      <td>18</td>\n",
       "      <td>11</td>\n",
       "      <td>15</td>\n",
       "      <td>0</td>\n",
       "      <td>0</td>\n",
       "      <td>...</td>\n",
       "      <td>77</td>\n",
       "      <td>Yes</td>\n",
       "      <td>Yes</td>\n",
       "      <td>Positive</td>\n",
       "      <td>2</td>\n",
       "      <td>Normal</td>\n",
       "      <td>53</td>\n",
       "      <td>Protein Present</td>\n",
       "      <td>3593</td>\n",
       "      <td>No</td>\n",
       "    </tr>\n",
       "    <tr>\n",
       "      <th>69998</th>\n",
       "      <td>Cystic Fibrosis-Related Diabetes (CFRD)</td>\n",
       "      <td>Positive</td>\n",
       "      <td>Negative</td>\n",
       "      <td>No</td>\n",
       "      <td>Absent</td>\n",
       "      <td>32</td>\n",
       "      <td>30</td>\n",
       "      <td>24</td>\n",
       "      <td>1</td>\n",
       "      <td>1</td>\n",
       "      <td>...</td>\n",
       "      <td>70</td>\n",
       "      <td>No</td>\n",
       "      <td>No</td>\n",
       "      <td>Positive</td>\n",
       "      <td>1</td>\n",
       "      <td>Abnormal</td>\n",
       "      <td>35</td>\n",
       "      <td>Ketones Present</td>\n",
       "      <td>2592</td>\n",
       "      <td>Yes</td>\n",
       "    </tr>\n",
       "    <tr>\n",
       "      <th>69999</th>\n",
       "      <td>LADA</td>\n",
       "      <td>Positive</td>\n",
       "      <td>Positive</td>\n",
       "      <td>Yes</td>\n",
       "      <td>Absent</td>\n",
       "      <td>27</td>\n",
       "      <td>41</td>\n",
       "      <td>28</td>\n",
       "      <td>0.5</td>\n",
       "      <td>1</td>\n",
       "      <td>...</td>\n",
       "      <td>84</td>\n",
       "      <td>No</td>\n",
       "      <td>Yes</td>\n",
       "      <td>Negative</td>\n",
       "      <td>2</td>\n",
       "      <td>Abnormal</td>\n",
       "      <td>64</td>\n",
       "      <td>Ketones Present</td>\n",
       "      <td>3593</td>\n",
       "      <td>Yes</td>\n",
       "    </tr>\n",
       "  </tbody>\n",
       "</table>\n",
       "<p>70000 rows × 34 columns</p>\n",
       "</div>"
      ],
      "text/plain": [
       "                                        Target Genetic Markers Autoantibodies  \\\n",
       "0                     Steroid-Induced Diabetes        Positive       Negative   \n",
       "1             Neonatal Diabetes Mellitus (NDM)        Positive       Negative   \n",
       "2                                  Prediabetic        Positive       Positive   \n",
       "3                              Type 1 Diabetes        Negative       Positive   \n",
       "4                             Wolfram Syndrome        Negative       Negative   \n",
       "...                                        ...             ...            ...   \n",
       "69995                 Steroid-Induced Diabetes        Negative       Negative   \n",
       "69996                                     LADA        Positive       Positive   \n",
       "69997                          Type 1 Diabetes        Positive       Negative   \n",
       "69998  Cystic Fibrosis-Related Diabetes (CFRD)        Positive       Negative   \n",
       "69999                                     LADA        Positive       Positive   \n",
       "\n",
       "      Family History Environmental Factors  Insulin Levels  Age  BMI  \\\n",
       "0                 No               Present              40   44   38   \n",
       "1                 No               Present              13    1   17   \n",
       "2                Yes               Present              27   36   24   \n",
       "3                 No               Present               8    7   16   \n",
       "4                Yes               Present              17   10   17   \n",
       "...              ...                   ...             ...  ...  ...   \n",
       "69995            Yes               Present              24   38   35   \n",
       "69996             No                Absent              21   51   31   \n",
       "69997             No                Absent              18   11   15   \n",
       "69998             No                Absent              32   30   24   \n",
       "69999            Yes                Absent              27   41   28   \n",
       "\n",
       "      Physical Activity Dietary Habits  ...  Pulmonary Function  \\\n",
       "0                     1              1  ...                  76   \n",
       "1                     1              1  ...                  60   \n",
       "2                     1              0  ...                  80   \n",
       "3                     0              0  ...                  89   \n",
       "4                     1              1  ...                  41   \n",
       "...                 ...            ...  ...                 ...   \n",
       "69995                 1              0  ...                  71   \n",
       "69996                 0              0  ...                  82   \n",
       "69997                 0              0  ...                  77   \n",
       "69998                 1              1  ...                  70   \n",
       "69999               0.5              1  ...                  84   \n",
       "\n",
       "       Cystic Fibrosis Diagnosis  Steroid Use History  Genetic Testing  \\\n",
       "0                             No                   No         Positive   \n",
       "1                            Yes                   No         Negative   \n",
       "2                            Yes                   No         Negative   \n",
       "3                            Yes                   No         Positive   \n",
       "4                             No                   No         Positive   \n",
       "...                          ...                  ...              ...   \n",
       "69995                        Yes                  Yes         Positive   \n",
       "69996                        Yes                  Yes         Negative   \n",
       "69997                        Yes                  Yes         Positive   \n",
       "69998                         No                   No         Positive   \n",
       "69999                         No                  Yes         Negative   \n",
       "\n",
       "      Neurological Assessments Liver Function Tests Digestive Enzyme Levels  \\\n",
       "0                            3               Normal                      56   \n",
       "1                            1               Normal                      28   \n",
       "2                            1             Abnormal                      55   \n",
       "3                            2             Abnormal                      60   \n",
       "4                            1               Normal                      24   \n",
       "...                        ...                  ...                     ...   \n",
       "69995                        2             Abnormal                      34   \n",
       "69996                        1             Abnormal                      58   \n",
       "69997                        2               Normal                      53   \n",
       "69998                        1             Abnormal                      35   \n",
       "69999                        2             Abnormal                      64   \n",
       "\n",
       "            Urine Test Birth Weight Early Onset Symptoms  \n",
       "0      Ketones Present         2629                   No  \n",
       "1      Glucose Present         1881                  Yes  \n",
       "2      Ketones Present         3622                  Yes  \n",
       "3      Ketones Present         3542                   No  \n",
       "4      Protein Present         1770                   No  \n",
       "...                ...          ...                  ...  \n",
       "69995           Normal         2575                   No  \n",
       "69996  Ketones Present         3002                   No  \n",
       "69997  Protein Present         3593                   No  \n",
       "69998  Ketones Present         2592                  Yes  \n",
       "69999  Ketones Present         3593                  Yes  \n",
       "\n",
       "[70000 rows x 34 columns]"
      ]
     },
     "execution_count": 80,
     "metadata": {},
     "output_type": "execute_result"
    }
   ],
   "source": [
    "# coding physical activity\n",
    "for i in range (70000):\n",
    "    if df.iloc[i, 8] == \"High\":\n",
    "        df.iloc[i, 8] = 1\n",
    "    elif df.iloc[i, 8] == \"Moderate\":\n",
    "        df.iloc[i, 8] = .5\n",
    "    elif df.iloc[i, 8] == \"Low\":\n",
    "        df.iloc[i, 8] = 0\n",
    "\n",
    "# coding dietary habits\n",
    "for i in range (70000):\n",
    "    if df.iloc[i, 9] == \"Healthy\":\n",
    "        df.iloc[i, 9] = 1\n",
    "    elif df.iloc[i, 9] == \"Unhealthy\":\n",
    "        df.iloc[i, 9] = 0\n",
    "\n",
    "# coding smoking status\n",
    "for i in range (70000):\n",
    "    if df.iloc[i, 16] == \"Non-Smoker\":\n",
    "        df.iloc[i, 16] = 1\n",
    "    elif df.iloc[i, 16] == \"Smoker\":\n",
    "        df.iloc[i, 16] = 0\n",
    "\n",
    "# coding alcohol consumption\n",
    "for i in range (70000):\n",
    "    if df.iloc[i, 17] == \"Low\":\n",
    "        df.iloc[i, 17] = 1\n",
    "    elif df.iloc[i, 17] == \"Moderate\":\n",
    "        df.iloc[i, 17] = .5\n",
    "    elif df.iloc[i, 17] == \"High\":\n",
    "        df.iloc[i, 17] = 0\n",
    "df"
   ]
  },
  {
   "cell_type": "markdown",
   "metadata": {},
   "source": [
    "### Z Tests for Type 1"
   ]
  },
  {
   "cell_type": "code",
   "execution_count": 136,
   "metadata": {},
   "outputs": [
    {
     "data": {
      "text/plain": [
       "(np.float64(0.47173893011862505), np.float64(0.6371131459949553))"
      ]
     },
     "execution_count": 136,
     "metadata": {},
     "output_type": "execute_result"
    }
   ],
   "source": [
    "from statsmodels.stats.weightstats import ztest\n",
    "results = ztest(type1[\"Physical Activity\"], type1[\"Dietary Habits\"], value = 0, alternative = 'two-sided')\n",
    "results"
   ]
  },
  {
   "cell_type": "code",
   "execution_count": 106,
   "metadata": {},
   "outputs": [
    {
     "data": {
      "text/plain": [
       "(np.float64(-0.32495876052710243), np.float64(0.7452122835713922))"
      ]
     },
     "execution_count": 106,
     "metadata": {},
     "output_type": "execute_result"
    }
   ],
   "source": [
    "results = ztest(type1[\"Physical Activity\"], type1[\"Smoking Status\"], value = 0, alternative = 'two-sided')\n",
    "results"
   ]
  },
  {
   "cell_type": "code",
   "execution_count": 107,
   "metadata": {},
   "outputs": [
    {
     "data": {
      "text/plain": [
       "(np.float64(-1.0764518646113448), np.float64(0.2817252175273629))"
      ]
     },
     "execution_count": 107,
     "metadata": {},
     "output_type": "execute_result"
    }
   ],
   "source": [
    "results = ztest(type1[\"Physical Activity\"], type1[\"Alcohol Consumption\"], value = 0, alternative = 'two-sided')\n",
    "results"
   ]
  },
  {
   "cell_type": "code",
   "execution_count": 108,
   "metadata": {},
   "outputs": [
    {
     "data": {
      "text/plain": [
       "(np.float64(-0.7281803179625824), np.float64(0.4665032124956856))"
      ]
     },
     "execution_count": 108,
     "metadata": {},
     "output_type": "execute_result"
    }
   ],
   "source": [
    "results = ztest(type1[\"Dietary Habits\"], type1[\"Smoking Status\"], value = 0, alternative = 'two-sided')\n",
    "results"
   ]
  },
  {
   "cell_type": "code",
   "execution_count": 109,
   "metadata": {},
   "outputs": [
    {
     "data": {
      "text/plain": [
       "(np.float64(-1.436391536701913), np.float64(0.1508909600397072))"
      ]
     },
     "execution_count": 109,
     "metadata": {},
     "output_type": "execute_result"
    }
   ],
   "source": [
    "results = ztest(type1[\"Dietary Habits\"], type1[\"Alcohol Consumption\"], value = 0, alternative = 'two-sided')\n",
    "results"
   ]
  },
  {
   "cell_type": "code",
   "execution_count": 110,
   "metadata": {},
   "outputs": [
    {
     "data": {
      "text/plain": [
       "(np.float64(-0.6395278335417376), np.float64(0.5224796127555277))"
      ]
     },
     "execution_count": 110,
     "metadata": {},
     "output_type": "execute_result"
    }
   ],
   "source": [
    "results = ztest(type1[\"Smoking Status\"], type1[\"Alcohol Consumption\"], value = 0, alternative = 'two-sided')\n",
    "results"
   ]
  },
  {
   "cell_type": "markdown",
   "metadata": {},
   "source": [
    "### Z Tests for Type 2"
   ]
  },
  {
   "cell_type": "code",
   "execution_count": 111,
   "metadata": {},
   "outputs": [
    {
     "data": {
      "text/plain": [
       "(np.float64(0.9731320100188441), np.float64(0.3304876967163113))"
      ]
     },
     "execution_count": 111,
     "metadata": {},
     "output_type": "execute_result"
    }
   ],
   "source": [
    "results = ztest(type2[\"Physical Activity\"], type2[\"Dietary Habits\"], value = 0, alternative = 'two-sided')\n",
    "results"
   ]
  },
  {
   "cell_type": "code",
   "execution_count": 112,
   "metadata": {},
   "outputs": [
    {
     "data": {
      "text/plain": [
       "(np.float64(-0.32495876052710243), np.float64(0.7452122835713922))"
      ]
     },
     "execution_count": 112,
     "metadata": {},
     "output_type": "execute_result"
    }
   ],
   "source": [
    "results = ztest(type1[\"Physical Activity\"], type1[\"Smoking Status\"], value = 0, alternative = 'two-sided')\n",
    "results"
   ]
  },
  {
   "cell_type": "code",
   "execution_count": 113,
   "metadata": {},
   "outputs": [
    {
     "data": {
      "text/plain": [
       "(np.float64(-1.0764518646113448), np.float64(0.2817252175273629))"
      ]
     },
     "execution_count": 113,
     "metadata": {},
     "output_type": "execute_result"
    }
   ],
   "source": [
    "results = ztest(type1[\"Physical Activity\"], type1[\"Alcohol Consumption\"], value = 0, alternative = 'two-sided')\n",
    "results"
   ]
  },
  {
   "cell_type": "code",
   "execution_count": 114,
   "metadata": {},
   "outputs": [
    {
     "data": {
      "text/plain": [
       "(np.float64(-0.7281803179625824), np.float64(0.4665032124956856))"
      ]
     },
     "execution_count": 114,
     "metadata": {},
     "output_type": "execute_result"
    }
   ],
   "source": [
    "results = ztest(type1[\"Dietary Habits\"], type1[\"Smoking Status\"], value = 0, alternative = 'two-sided')\n",
    "results"
   ]
  },
  {
   "cell_type": "code",
   "execution_count": 115,
   "metadata": {},
   "outputs": [
    {
     "data": {
      "text/plain": [
       "(np.float64(-1.436391536701913), np.float64(0.1508909600397072))"
      ]
     },
     "execution_count": 115,
     "metadata": {},
     "output_type": "execute_result"
    }
   ],
   "source": [
    "results = ztest(type1[\"Dietary Habits\"], type1[\"Alcohol Consumption\"], value = 0, alternative = 'two-sided')\n",
    "results"
   ]
  },
  {
   "cell_type": "code",
   "execution_count": 116,
   "metadata": {},
   "outputs": [
    {
     "data": {
      "text/plain": [
       "(np.float64(-0.6395278335417376), np.float64(0.5224796127555277))"
      ]
     },
     "execution_count": 116,
     "metadata": {},
     "output_type": "execute_result"
    }
   ],
   "source": [
    "results = ztest(type1[\"Smoking Status\"], type1[\"Alcohol Consumption\"], value = 0, alternative = 'two-sided')\n",
    "results"
   ]
  },
  {
   "cell_type": "markdown",
   "metadata": {},
   "source": [
    "### Z Tests for Type 3c"
   ]
  },
  {
   "cell_type": "code",
   "execution_count": 117,
   "metadata": {},
   "outputs": [
    {
     "data": {
      "text/plain": [
       "(np.float64(1.9494803957079423), np.float64(0.051238081756492644))"
      ]
     },
     "execution_count": 117,
     "metadata": {},
     "output_type": "execute_result"
    }
   ],
   "source": [
    "results = ztest(type3c[\"Physical Activity\"], type3c[\"Dietary Habits\"], value = 0, alternative = 'two-sided')\n",
    "results"
   ]
  },
  {
   "cell_type": "code",
   "execution_count": 118,
   "metadata": {},
   "outputs": [
    {
     "data": {
      "text/plain": [
       "(np.float64(2.631467117158015), np.float64(0.008501709390175513))"
      ]
     },
     "execution_count": 118,
     "metadata": {},
     "output_type": "execute_result"
    }
   ],
   "source": [
    "results = ztest(type3c[\"Physical Activity\"], type3c[\"Smoking Status\"], value = 0, alternative = 'two-sided')\n",
    "results"
   ]
  },
  {
   "cell_type": "code",
   "execution_count": 119,
   "metadata": {},
   "outputs": [
    {
     "data": {
      "text/plain": [
       "(np.float64(0.7386815409546788), np.float64(0.460100397185497))"
      ]
     },
     "execution_count": 119,
     "metadata": {},
     "output_type": "execute_result"
    }
   ],
   "source": [
    "results = ztest(type3c[\"Physical Activity\"], type3c[\"Alcohol Consumption\"], value = 0, alternative = 'two-sided')\n",
    "results"
   ]
  },
  {
   "cell_type": "code",
   "execution_count": 120,
   "metadata": {},
   "outputs": [
    {
     "data": {
      "text/plain": [
       "(np.float64(0.62044067053656), np.float64(0.5349677032316363))"
      ]
     },
     "execution_count": 120,
     "metadata": {},
     "output_type": "execute_result"
    }
   ],
   "source": [
    "results = ztest(type3c[\"Dietary Habits\"], type3c[\"Smoking Status\"], value = 0, alternative = 'two-sided')\n",
    "results"
   ]
  },
  {
   "cell_type": "code",
   "execution_count": 121,
   "metadata": {},
   "outputs": [
    {
     "data": {
      "text/plain": [
       "(np.float64(-1.2844177406134758), np.float64(0.1989958288541288))"
      ]
     },
     "execution_count": 121,
     "metadata": {},
     "output_type": "execute_result"
    }
   ],
   "source": [
    "results = ztest(type3c[\"Dietary Habits\"], type3c[\"Alcohol Consumption\"], value = 0, alternative = 'two-sided')\n",
    "results"
   ]
  },
  {
   "cell_type": "code",
   "execution_count": 134,
   "metadata": {},
   "outputs": [
    {
     "data": {
      "text/plain": [
       "(np.float64(-1.9639283054156587), np.float64(0.04953840678564665))"
      ]
     },
     "execution_count": 134,
     "metadata": {},
     "output_type": "execute_result"
    }
   ],
   "source": [
    "results = ztest(type3c[\"Smoking Status\"], type3c[\"Alcohol Consumption\"], value = 0, alternative = 'two-sided')\n",
    "results"
   ]
  },
  {
   "cell_type": "markdown",
   "metadata": {},
   "source": []
  },
  {
   "cell_type": "markdown",
   "metadata": {},
   "source": [
    "### Lifestyle Factors Table of Averages"
   ]
  },
  {
   "cell_type": "code",
   "execution_count": 138,
   "metadata": {},
   "outputs": [
    {
     "data": {
      "text/html": [
       "<div>\n",
       "<style scoped>\n",
       "    .dataframe tbody tr th:only-of-type {\n",
       "        vertical-align: middle;\n",
       "    }\n",
       "\n",
       "    .dataframe tbody tr th {\n",
       "        vertical-align: top;\n",
       "    }\n",
       "\n",
       "    .dataframe thead th {\n",
       "        text-align: right;\n",
       "    }\n",
       "</style>\n",
       "<table border=\"1\" class=\"dataframe\">\n",
       "  <thead>\n",
       "    <tr style=\"text-align: right;\">\n",
       "      <th></th>\n",
       "      <th>Target</th>\n",
       "      <th>Physical Activity</th>\n",
       "      <th>Dietary Habits</th>\n",
       "      <th>Smoking Status</th>\n",
       "      <th>Alcohol Consumption</th>\n",
       "    </tr>\n",
       "  </thead>\n",
       "  <tbody>\n",
       "    <tr>\n",
       "      <th>0</th>\n",
       "      <td>Type 1</td>\n",
       "      <td>0.497521</td>\n",
       "      <td>0.493390</td>\n",
       "      <td>0.500367</td>\n",
       "      <td>0.505968</td>\n",
       "    </tr>\n",
       "    <tr>\n",
       "      <th>1</th>\n",
       "      <td>Type 2</td>\n",
       "      <td>0.499351</td>\n",
       "      <td>0.490828</td>\n",
       "      <td>0.498610</td>\n",
       "      <td>0.510283</td>\n",
       "    </tr>\n",
       "    <tr>\n",
       "      <th>2</th>\n",
       "      <td>Type 3c</td>\n",
       "      <td>0.514944</td>\n",
       "      <td>0.497744</td>\n",
       "      <td>0.491729</td>\n",
       "      <td>0.509117</td>\n",
       "    </tr>\n",
       "  </tbody>\n",
       "</table>\n",
       "</div>"
      ],
      "text/plain": [
       "    Target  Physical Activity  Dietary Habits  Smoking Status  \\\n",
       "0   Type 1           0.497521        0.493390        0.500367   \n",
       "1   Type 2           0.499351        0.490828        0.498610   \n",
       "2  Type 3c           0.514944        0.497744        0.491729   \n",
       "\n",
       "   Alcohol Consumption  \n",
       "0             0.505968  \n",
       "1             0.510283  \n",
       "2             0.509117  "
      ]
     },
     "execution_count": 138,
     "metadata": {},
     "output_type": "execute_result"
    }
   ],
   "source": [
    "data = {'Target': ['Type 1', 'Type 2', 'Type 3c'], 'Physical Activity': [type1[\"Physical Activity\"].mean(), type2[\"Physical Activity\"].mean(), type3c[\"Physical Activity\"].mean()],\n",
    "        'Dietary Habits': [type1[\"Dietary Habits\"].mean(), type2[\"Dietary Habits\"].mean(), type3c[\"Dietary Habits\"].mean()],\n",
    "        'Smoking Status': [type1[\"Smoking Status\"].mean(), type2[\"Smoking Status\"].mean(), type3c[\"Smoking Status\"].mean()],\n",
    "        'Alcohol Consumption': [type1[\"Alcohol Consumption\"].mean(), type2[\"Alcohol Consumption\"].mean(), type3c[\"Alcohol Consumption\"].mean()]}\n",
    "lifestyle_table = pd.DataFrame(data)\n",
    "lifestyle_table"
   ]
  }
 ],
 "metadata": {
  "kernelspec": {
   "display_name": "DataViz",
   "language": "python",
   "name": "python3"
  },
  "language_info": {
   "codemirror_mode": {
    "name": "ipython",
    "version": 3
   },
   "file_extension": ".py",
   "mimetype": "text/x-python",
   "name": "python",
   "nbconvert_exporter": "python",
   "pygments_lexer": "ipython3",
   "version": "3.12.6"
  }
 },
 "nbformat": 4,
 "nbformat_minor": 2
}
